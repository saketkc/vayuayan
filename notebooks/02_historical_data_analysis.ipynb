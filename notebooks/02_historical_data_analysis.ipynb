{
 "cells": [
  {
   "cell_type": "markdown",
   "metadata": {},
   "source": [
    "# Historical AQI Data Analysis\n",
    "\n",
    "This notebook demonstrates how to download, analyze, and visualize historical Air Quality Index (AQI) data for Indian cities."
   ]
  },
  {
   "cell_type": "code",
   "execution_count": null,
   "metadata": {},
   "outputs": [],
   "source": [
    "from cpcbfetch import AQIClient\n",
    "import pandas as pd\n",
    "import matplotlib.pyplot as plt\n",
    "import seaborn as sns\n",
    "\n",
    "# Set style for better-looking plots\n",
    "sns.set_style(\"whitegrid\")\n",
    "plt.rcParams['figure.figsize'] = (12, 6)"
   ]
  },
  {
   "cell_type": "markdown",
   "metadata": {},
   "source": [
    "## 1. Downloading Historical Data\n",
    "\n",
    "Let's download AQI data for a city (e.g., Delhi) for analysis."
   ]
  },
  {
   "cell_type": "code",
   "execution_count": null,
   "metadata": {},
   "outputs": [],
   "source": [
    "# Initialize AQI client\n",
    "client = AQIClient()\n",
    "\n",
    "# Download city-level data for Delhi in 2024\n",
    "# Note: Uncomment the following lines to actually download data\n",
    "\n",
    "# city = \"Delhi\"\n",
    "# year = \"2024\"\n",
    "# output_file = f\"{city.lower()}_aqi_{year}.csv\"\n",
    "\n",
    "# client.download_past_year_AQI_data_cityLevel(city, year, output_file)\n",
    "# print(f\"Data downloaded to {output_file}\")"
   ]
  },
  {
   "cell_type": "markdown",
   "metadata": {},
   "source": [
    "## 2. Loading and Exploring the Data\n",
    "\n",
    "Load the downloaded CSV file and explore its structure."
   ]
  },
  {
   "cell_type": "code",
   "execution_count": null,
   "metadata": {},
   "outputs": [],
   "source": [
    "# Load the data\n",
    "# df = pd.read_csv(output_file)\n",
    "\n",
    "# For demonstration purposes, let's create sample data structure\n",
    "# Uncomment the above line when you have actual data\n",
    "\n",
    "print(\"Dataset Information:\")\n",
    "# print(f\"Shape: {df.shape}\")\n",
    "# print(f\"\\nColumns: {df.columns.tolist()}\")\n",
    "# print(f\"\\nData types:\\n{df.dtypes}\")\n",
    "# print(f\"\\nFirst few rows:\")\n",
    "# df.head()"
   ]
  },
  {
   "cell_type": "markdown",
   "metadata": {},
   "source": [
    "## 3. Data Preprocessing\n",
    "\n",
    "Clean and prepare the data for analysis."
   ]
  },
  {
   "cell_type": "code",
   "execution_count": null,
   "metadata": {},
   "outputs": [],
   "source": [
    "# Convert date columns to datetime\n",
    "# df['Date'] = pd.to_datetime(df['Date'])\n",
    "\n",
    "# Sort by date\n",
    "# df = df.sort_values('Date')\n",
    "\n",
    "# Handle missing values\n",
    "# print(f\"\\nMissing values:\\n{df.isnull().sum()}\")\n",
    "\n",
    "# Fill or drop missing values as appropriate\n",
    "# df = df.dropna(subset=['AQI'])  # Drop rows where AQI is missing"
   ]
  },
  {
   "cell_type": "markdown",
   "metadata": {},
   "source": [
    "## 4. Statistical Summary\n",
    "\n",
    "Get basic statistics about the AQI data."
   ]
  },
  {
   "cell_type": "code",
   "execution_count": null,
   "metadata": {},
   "outputs": [],
   "source": [
    "# Statistical summary\n",
    "# print(\"AQI Statistics:\")\n",
    "# print(df['AQI'].describe())\n",
    "\n",
    "# print(\"\\nAQI Category Distribution:\")\n",
    "# print(df['AQI_Category'].value_counts())"
   ]
  },
  {
   "cell_type": "markdown",
   "metadata": {},
   "source": [
    "## 5. Time Series Visualization\n",
    "\n",
    "Plot AQI trends over time."
   ]
  },
  {
   "cell_type": "code",
   "execution_count": null,
   "metadata": {},
   "outputs": [],
   "source": [
    "# Plot AQI over time\n",
    "# plt.figure(figsize=(14, 6))\n",
    "# plt.plot(df['Date'], df['AQI'], linewidth=1, alpha=0.7)\n",
    "# plt.xlabel('Date')\n",
    "# plt.ylabel('AQI')\n",
    "# plt.title(f'Air Quality Index Trend for {city} ({year})')\n",
    "# plt.xticks(rotation=45)\n",
    "# plt.grid(True, alpha=0.3)\n",
    "# plt.tight_layout()\n",
    "# plt.show()"
   ]
  },
  {
   "cell_type": "markdown",
   "metadata": {},
   "source": [
    "## 6. Monthly Analysis\n",
    "\n",
    "Analyze AQI patterns by month."
   ]
  },
  {
   "cell_type": "code",
   "execution_count": null,
   "metadata": {},
   "outputs": [],
   "source": [
    "# Extract month from date\n",
    "# df['Month'] = df['Date'].dt.month_name()\n",
    "\n",
    "# Calculate monthly average AQI\n",
    "# monthly_avg = df.groupby('Month')['AQI'].mean().sort_values(ascending=False)\n",
    "\n",
    "# print(\"Average AQI by Month:\")\n",
    "# print(monthly_avg)\n",
    "\n",
    "# Visualize monthly averages\n",
    "# plt.figure(figsize=(12, 6))\n",
    "# monthly_avg.plot(kind='bar', color='steelblue')\n",
    "# plt.xlabel('Month')\n",
    "# plt.ylabel('Average AQI')\n",
    "# plt.title(f'Average AQI by Month - {city} ({year})')\n",
    "# plt.xticks(rotation=45)\n",
    "# plt.tight_layout()\n",
    "# plt.show()"
   ]
  },
  {
   "cell_type": "markdown",
   "metadata": {},
   "source": [
    "## 7. Pollutant Analysis\n",
    "\n",
    "Analyze individual pollutant levels if available in the data."
   ]
  },
  {
   "cell_type": "code",
   "execution_count": null,
   "metadata": {},
   "outputs": [],
   "source": [
    "# Pollutants to analyze\n",
    "# pollutants = ['PM2.5', 'PM10', 'NO2', 'SO2', 'CO', 'O3']\n",
    "\n",
    "# # Check which pollutants are available\n",
    "# available_pollutants = [p for p in pollutants if p in df.columns]\n",
    "\n",
    "# if available_pollutants:\n",
    "#     # Plot pollutant trends\n",
    "#     fig, axes = plt.subplots(len(available_pollutants), 1, figsize=(14, 4*len(available_pollutants)))\n",
    "#     \n",
    "#     for idx, pollutant in enumerate(available_pollutants):\n",
    "#         ax = axes[idx] if len(available_pollutants) > 1 else axes\n",
    "#         ax.plot(df['Date'], df[pollutant], linewidth=1, alpha=0.7)\n",
    "#         ax.set_xlabel('Date')\n",
    "#         ax.set_ylabel(f'{pollutant} (μg/m³)')\n",
    "#         ax.set_title(f'{pollutant} Levels Over Time')\n",
    "#         ax.grid(True, alpha=0.3)\n",
    "#     \n",
    "#     plt.tight_layout()\n",
    "#     plt.show()"
   ]
  },
  {
   "cell_type": "markdown",
   "metadata": {},
   "source": [
    "## 8. AQI Category Distribution\n",
    "\n",
    "Visualize the distribution of AQI categories."
   ]
  },
  {
   "cell_type": "code",
   "execution_count": null,
   "metadata": {},
   "outputs": [],
   "source": [
    "# Create a pie chart of AQI categories\n",
    "# category_counts = df['AQI_Category'].value_counts()\n",
    "\n",
    "# plt.figure(figsize=(10, 8))\n",
    "# plt.pie(category_counts.values, labels=category_counts.index, autopct='%1.1f%%', startangle=90)\n",
    "# plt.title(f'AQI Category Distribution - {city} ({year})')\n",
    "# plt.axis('equal')\n",
    "# plt.show()"
   ]
  },
  {
   "cell_type": "markdown",
   "metadata": {},
   "source": [
    "## 9. Identifying Worst Days\n",
    "\n",
    "Find the days with worst air quality."
   ]
  },
  {
   "cell_type": "code",
   "execution_count": null,
   "metadata": {},
   "outputs": [],
   "source": [
    "# Get top 10 worst AQI days\n",
    "# worst_days = df.nlargest(10, 'AQI')[['Date', 'AQI', 'AQI_Category']]\n",
    "# print(\"Top 10 Worst Air Quality Days:\")\n",
    "# print(worst_days)\n",
    "\n",
    "# Get top 10 best AQI days\n",
    "# best_days = df.nsmallest(10, 'AQI')[['Date', 'AQI', 'AQI_Category']]\n",
    "# print(\"\\nTop 10 Best Air Quality Days:\")\n",
    "# print(best_days)"
   ]
  },
  {
   "cell_type": "markdown",
   "metadata": {},
   "source": [
    "## 10. Export Analysis Results\n",
    "\n",
    "Save the analysis results for future reference."
   ]
  },
  {
   "cell_type": "code",
   "execution_count": null,
   "metadata": {},
   "outputs": [],
   "source": [
    "# Create summary statistics\n",
    "# summary = {\n",
    "#     'City': city,\n",
    "#     'Year': year,\n",
    "#     'Total Days': len(df),\n",
    "#     'Average AQI': df['AQI'].mean(),\n",
    "#     'Max AQI': df['AQI'].max(),\n",
    "#     'Min AQI': df['AQI'].min(),\n",
    "#     'Std Dev': df['AQI'].std()\n",
    "# }\n",
    "\n",
    "# print(\"\\nAnalysis Summary:\")\n",
    "# for key, value in summary.items():\n",
    "#     print(f\"{key}: {value}\")\n",
    "\n",
    "# Save to JSON\n",
    "# import json\n",
    "# with open(f'{city.lower()}_analysis_{year}.json', 'w') as f:\n",
    "#     json.dump(summary, f, indent=2)\n",
    "# print(f\"\\nAnalysis saved to {city.lower()}_analysis_{year}.json\")"
   ]
  },
  {
   "cell_type": "markdown",
   "metadata": {},
   "source": [
    "## Conclusion\n",
    "\n",
    "This notebook demonstrated how to:\n",
    "- Download historical AQI data\n",
    "- Perform basic data analysis\n",
    "- Visualize trends and patterns\n",
    "- Identify critical pollution days\n",
    "- Export analysis results\n",
    "\n",
    "For more examples, check out the other notebooks in this series!"
   ]
  }
 ],
 "metadata": {
  "kernelspec": {
   "display_name": "Python 3",
   "language": "python",
   "name": "python3"
  },
  "language_info": {
   "codemirror_mode": {
    "name": "ipython",
    "version": 3
   },
   "file_extension": ".py",
   "mimetype": "text/x-python",
   "name": "python",
   "nbconvert_exporter": "python",
   "pygments_lexer": "ipython3",
   "version": "3.8.0"
  }
 },
 "nbformat": 4,
 "nbformat_minor": 4
}
