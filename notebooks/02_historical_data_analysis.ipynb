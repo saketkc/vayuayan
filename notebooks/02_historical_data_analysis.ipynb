{
 "cells": [
  {
   "cell_type": "markdown",
   "metadata": {},
   "source": [
    "# Historical AQI Data Analysis\n",
    "\n",
    "This notebook demonstrates how to download, analyze, and visualize historical Air Quality Index (AQI) data for Indian cities."
   ]
  },
  {
   "cell_type": "code",
   "execution_count": 2,
   "metadata": {},
   "outputs": [
    {
     "name": "stdout",
     "output_type": "stream",
     "text": [
      "Collecting matplotlib\n",
      "  Obtaining dependency information for matplotlib from https://files.pythonhosted.org/packages/45/c3/994ef20eb4154ab84cc08d033834555319e4af970165e6c8894050af0b3c/matplotlib-3.10.6-cp312-cp312-win_amd64.whl.metadata\n",
      "  Downloading matplotlib-3.10.6-cp312-cp312-win_amd64.whl.metadata (11 kB)\n",
      "Collecting seaborn\n",
      "  Obtaining dependency information for seaborn from https://files.pythonhosted.org/packages/83/11/00d3c3dfc25ad54e731d91449895a79e4bf2384dc3ac01809010ba88f6d5/seaborn-0.13.2-py3-none-any.whl.metadata\n",
      "  Using cached seaborn-0.13.2-py3-none-any.whl.metadata (5.4 kB)\n",
      "Requirement already satisfied: pandas in c:\\users\\mahes\\onedrive\\desktop\\coding\\dh307\\cpcbfetch\\venv\\lib\\site-packages (2.3.2)\n",
      "Collecting contourpy>=1.0.1 (from matplotlib)\n",
      "  Obtaining dependency information for contourpy>=1.0.1 from https://files.pythonhosted.org/packages/19/e8/6026ed58a64563186a9ee3f29f41261fd1828f527dd93d33b60feca63352/contourpy-1.3.3-cp312-cp312-win_amd64.whl.metadata\n",
      "  Downloading contourpy-1.3.3-cp312-cp312-win_amd64.whl.metadata (5.5 kB)\n",
      "Collecting cycler>=0.10 (from matplotlib)\n",
      "  Obtaining dependency information for cycler>=0.10 from https://files.pythonhosted.org/packages/e7/05/c19819d5e3d95294a6f5947fb9b9629efb316b96de511b418c53d245aae6/cycler-0.12.1-py3-none-any.whl.metadata\n",
      "  Using cached cycler-0.12.1-py3-none-any.whl.metadata (3.8 kB)\n",
      "Collecting fonttools>=4.22.0 (from matplotlib)\n",
      "  Obtaining dependency information for fonttools>=4.22.0 from https://files.pythonhosted.org/packages/88/8f/a55b5550cd33cd1028601df41acd057d4be20efa5c958f417b0c0613924d/fonttools-4.60.1-cp312-cp312-win_amd64.whl.metadata\n",
      "  Downloading fonttools-4.60.1-cp312-cp312-win_amd64.whl.metadata (114 kB)\n",
      "     ---------------------------------------- 0.0/114.6 kB ? eta -:--:--\n",
      "     --- ------------------------------------ 10.2/114.6 kB ? eta -:--:--\n",
      "     -------------------------------------  112.6/114.6 kB 1.3 MB/s eta 0:00:01\n",
      "     -------------------------------------  112.6/114.6 kB 1.3 MB/s eta 0:00:01\n",
      "     -------------------------------------  112.6/114.6 kB 1.3 MB/s eta 0:00:01\n",
      "     -------------------------------------  112.6/114.6 kB 1.3 MB/s eta 0:00:01\n",
      "     ------------------------------------ 114.6/114.6 kB 417.3 kB/s eta 0:00:00\n",
      "Collecting kiwisolver>=1.3.1 (from matplotlib)\n",
      "  Obtaining dependency information for kiwisolver>=1.3.1 from https://files.pythonhosted.org/packages/a0/41/85d82b0291db7504da3c2defe35c9a8a5c9803a730f297bd823d11d5fb77/kiwisolver-1.4.9-cp312-cp312-win_amd64.whl.metadata\n",
      "  Downloading kiwisolver-1.4.9-cp312-cp312-win_amd64.whl.metadata (6.4 kB)\n",
      "Requirement already satisfied: numpy>=1.23 in c:\\users\\mahes\\onedrive\\desktop\\coding\\dh307\\cpcbfetch\\venv\\lib\\site-packages (from matplotlib) (2.3.3)\n",
      "Requirement already satisfied: packaging>=20.0 in c:\\users\\mahes\\onedrive\\desktop\\coding\\dh307\\cpcbfetch\\venv\\lib\\site-packages (from matplotlib) (25.0)\n",
      "Collecting pillow>=8 (from matplotlib)\n",
      "  Obtaining dependency information for pillow>=8 from https://files.pythonhosted.org/packages/8c/ce/e7dfc873bdd9828f3b6e5c2bbb74e47a98ec23cc5c74fc4e54462f0d9204/pillow-11.3.0-cp312-cp312-win_amd64.whl.metadata\n",
      "  Using cached pillow-11.3.0-cp312-cp312-win_amd64.whl.metadata (9.2 kB)\n",
      "Requirement already satisfied: pyparsing>=2.3.1 in c:\\users\\mahes\\onedrive\\desktop\\coding\\dh307\\cpcbfetch\\venv\\lib\\site-packages (from matplotlib) (3.2.4)\n",
      "Requirement already satisfied: python-dateutil>=2.7 in c:\\users\\mahes\\onedrive\\desktop\\coding\\dh307\\cpcbfetch\\venv\\lib\\site-packages (from matplotlib) (2.9.0.post0)\n",
      "Requirement already satisfied: pytz>=2020.1 in c:\\users\\mahes\\onedrive\\desktop\\coding\\dh307\\cpcbfetch\\venv\\lib\\site-packages (from pandas) (2025.2)\n",
      "Requirement already satisfied: tzdata>=2022.7 in c:\\users\\mahes\\onedrive\\desktop\\coding\\dh307\\cpcbfetch\\venv\\lib\\site-packages (from pandas) (2025.2)\n",
      "Requirement already satisfied: six>=1.5 in c:\\users\\mahes\\onedrive\\desktop\\coding\\dh307\\cpcbfetch\\venv\\lib\\site-packages (from python-dateutil>=2.7->matplotlib) (1.17.0)\n",
      "Downloading matplotlib-3.10.6-cp312-cp312-win_amd64.whl (8.1 MB)\n",
      "   ---------------------------------------- 0.0/8.1 MB ? eta -:--:--\n",
      "   - -------------------------------------- 0.4/8.1 MB 7.8 MB/s eta 0:00:01\n",
      "   --- ------------------------------------ 0.8/8.1 MB 9.7 MB/s eta 0:00:01\n",
      "   ----- ---------------------------------- 1.2/8.1 MB 8.2 MB/s eta 0:00:01\n",
      "   ------- -------------------------------- 1.6/8.1 MB 8.5 MB/s eta 0:00:01\n",
      "   ---------- ----------------------------- 2.0/8.1 MB 9.3 MB/s eta 0:00:01\n",
      "   ------------ --------------------------- 2.5/8.1 MB 8.9 MB/s eta 0:00:01\n",
      "   -------------- ------------------------- 2.9/8.1 MB 9.0 MB/s eta 0:00:01\n",
      "   ---------------- ----------------------- 3.4/8.1 MB 9.6 MB/s eta 0:00:01\n",
      "   ------------------ --------------------- 3.8/8.1 MB 9.3 MB/s eta 0:00:01\n",
      "   -------------------- ------------------- 4.3/8.1 MB 9.4 MB/s eta 0:00:01\n",
      "   ---------------------- ----------------- 4.6/8.1 MB 9.3 MB/s eta 0:00:01\n",
      "   ------------------------- -------------- 5.1/8.1 MB 9.3 MB/s eta 0:00:01\n",
      "   --------------------------- ------------ 5.5/8.1 MB 9.5 MB/s eta 0:00:01\n",
      "   ---------------------------- ----------- 5.9/8.1 MB 9.2 MB/s eta 0:00:01\n",
      "   ------------------------------ --------- 6.2/8.1 MB 9.3 MB/s eta 0:00:01\n",
      "   -------------------------------- ------- 6.6/8.1 MB 9.2 MB/s eta 0:00:01\n",
      "   ---------------------------------- ----- 7.0/8.1 MB 9.2 MB/s eta 0:00:01\n",
      "   ------------------------------------ --- 7.4/8.1 MB 9.1 MB/s eta 0:00:01\n",
      "   -------------------------------------- - 7.8/8.1 MB 9.1 MB/s eta 0:00:01\n",
      "   ---------------------------------------  8.1/8.1 MB 9.1 MB/s eta 0:00:01\n",
      "   ---------------------------------------- 8.1/8.1 MB 8.8 MB/s eta 0:00:00\n",
      "Using cached seaborn-0.13.2-py3-none-any.whl (294 kB)\n",
      "Downloading contourpy-1.3.3-cp312-cp312-win_amd64.whl (226 kB)\n",
      "   ---------------------------------------- 0.0/226.6 kB ? eta -:--:--\n",
      "   --------------------------------------- 226.6/226.6 kB 13.5 MB/s eta 0:00:00\n",
      "Using cached cycler-0.12.1-py3-none-any.whl (8.3 kB)\n",
      "Downloading fonttools-4.60.1-cp312-cp312-win_amd64.whl (2.3 MB)\n",
      "   ---------------------------------------- 0.0/2.3 MB ? eta -:--:--\n",
      "   --- ------------------------------------ 0.2/2.3 MB 11.5 MB/s eta 0:00:01\n",
      "   -------- ------------------------------- 0.5/2.3 MB 7.2 MB/s eta 0:00:01\n",
      "   ------------- -------------------------- 0.8/2.3 MB 6.0 MB/s eta 0:00:01\n",
      "   -------------------- ------------------- 1.2/2.3 MB 6.1 MB/s eta 0:00:01\n",
      "   -------------------------- ------------- 1.5/2.3 MB 6.7 MB/s eta 0:00:01\n",
      "   ---------------------------------- ----- 1.9/2.3 MB 7.3 MB/s eta 0:00:01\n",
      "   ------------------------------------ --- 2.1/2.3 MB 6.5 MB/s eta 0:00:01\n",
      "   ---------------------------------------- 2.3/2.3 MB 6.6 MB/s eta 0:00:00\n",
      "Downloading kiwisolver-1.4.9-cp312-cp312-win_amd64.whl (73 kB)\n",
      "   ---------------------------------------- 0.0/73.9 kB ? eta -:--:--\n",
      "   ---------------------------------------- 73.9/73.9 kB ? eta 0:00:00\n",
      "Using cached pillow-11.3.0-cp312-cp312-win_amd64.whl (7.0 MB)\n",
      "Installing collected packages: pillow, kiwisolver, fonttools, cycler, contourpy, matplotlib, seaborn\n",
      "Successfully installed contourpy-1.3.3 cycler-0.12.1 fonttools-4.60.1 kiwisolver-1.4.9 matplotlib-3.10.6 pillow-11.3.0 seaborn-0.13.2\n"
     ]
    },
    {
     "name": "stderr",
     "output_type": "stream",
     "text": [
      "\n",
      "[notice] A new release of pip is available: 23.2.1 -> 25.2\n",
      "[notice] To update, run: python.exe -m pip install --upgrade pip\n"
     ]
    }
   ],
   "source": [
    "!pip install matplotlib seaborn pandas\n",
    "from cpcbfetch import AQIClient\n",
    "import pandas as pd\n",
    "import matplotlib.pyplot as plt\n",
    "import seaborn as sns\n",
    "\n",
    "# Set style for better-looking plots\n",
    "sns.set_style(\"whitegrid\")\n",
    "plt.rcParams['figure.figsize'] = (12, 6)"
   ]
  },
  {
   "cell_type": "markdown",
   "metadata": {},
   "source": [
    "## 1. Downloading Historical Data\n",
    "\n",
    "Let's download AQI data for a city (e.g., Delhi) for analysis."
   ]
  },
  {
   "cell_type": "code",
   "execution_count": 5,
   "metadata": {},
   "outputs": [
    {
     "name": "stdout",
     "output_type": "stream",
     "text": [
      "Data downloaded to delhi_aqi_2024.csv\n"
     ]
    }
   ],
   "source": [
    "# Initialize AQI client\n",
    "client = AQIClient()\n",
    "\n",
    "# Download city-level data for Delhi in 2024\n",
    "# Note: Uncomment the following lines to actually download data\n",
    "\n",
    "city = \"Delhi\"\n",
    "year = \"2024\"\n",
    "output_file = f\"{city.lower()}_aqi_{year}.csv\"\n",
    "\n",
    "client.download_past_year_AQI_data_cityLevel(city, year, output_file)\n",
    "print(f\"Data downloaded to {output_file}\")"
   ]
  },
  {
   "cell_type": "markdown",
   "metadata": {},
   "source": [
    "## 2. Loading and Exploring the Data\n",
    "\n",
    "Load the downloaded CSV file and explore its structure."
   ]
  },
  {
   "cell_type": "code",
   "execution_count": 6,
   "metadata": {},
   "outputs": [
    {
     "name": "stdout",
     "output_type": "stream",
     "text": [
      "Dataset Information:\n",
      "Shape: (41, 13)\n",
      "\n",
      "Columns: ['Day', 'January', 'February', 'March', 'April', 'May', 'June', 'July', 'August', 'September', 'October', 'November', 'December']\n",
      "\n",
      "Data types:\n",
      "Day           object\n",
      "January      float64\n",
      "February     float64\n",
      "March        float64\n",
      "April        float64\n",
      "May          float64\n",
      "June         float64\n",
      "July         float64\n",
      "August       float64\n",
      "September    float64\n",
      "October      float64\n",
      "November     float64\n",
      "December     float64\n",
      "dtype: object\n",
      "\n",
      "First few rows:\n"
     ]
    },
    {
     "data": {
      "text/html": [
       "<div>\n",
       "<style scoped>\n",
       "    .dataframe tbody tr th:only-of-type {\n",
       "        vertical-align: middle;\n",
       "    }\n",
       "\n",
       "    .dataframe tbody tr th {\n",
       "        vertical-align: top;\n",
       "    }\n",
       "\n",
       "    .dataframe thead th {\n",
       "        text-align: right;\n",
       "    }\n",
       "</style>\n",
       "<table border=\"1\" class=\"dataframe\">\n",
       "  <thead>\n",
       "    <tr style=\"text-align: right;\">\n",
       "      <th></th>\n",
       "      <th>Day</th>\n",
       "      <th>January</th>\n",
       "      <th>February</th>\n",
       "      <th>March</th>\n",
       "      <th>April</th>\n",
       "      <th>May</th>\n",
       "      <th>June</th>\n",
       "      <th>July</th>\n",
       "      <th>August</th>\n",
       "      <th>September</th>\n",
       "      <th>October</th>\n",
       "      <th>November</th>\n",
       "      <th>December</th>\n",
       "    </tr>\n",
       "  </thead>\n",
       "  <tbody>\n",
       "    <tr>\n",
       "      <th>0</th>\n",
       "      <td>1</td>\n",
       "      <td>346.0</td>\n",
       "      <td>176.0</td>\n",
       "      <td>208.0</td>\n",
       "      <td>133.0</td>\n",
       "      <td>200.0</td>\n",
       "      <td>245.0</td>\n",
       "      <td>105.0</td>\n",
       "      <td>64.0</td>\n",
       "      <td>101.0</td>\n",
       "      <td>149.0</td>\n",
       "      <td>339.0</td>\n",
       "      <td>285.0</td>\n",
       "    </tr>\n",
       "    <tr>\n",
       "      <th>1</th>\n",
       "      <td>2</td>\n",
       "      <td>340.0</td>\n",
       "      <td>215.0</td>\n",
       "      <td>117.0</td>\n",
       "      <td>144.0</td>\n",
       "      <td>197.0</td>\n",
       "      <td>173.0</td>\n",
       "      <td>118.0</td>\n",
       "      <td>76.0</td>\n",
       "      <td>87.0</td>\n",
       "      <td>173.0</td>\n",
       "      <td>318.0</td>\n",
       "      <td>280.0</td>\n",
       "    </tr>\n",
       "    <tr>\n",
       "      <th>2</th>\n",
       "      <td>3</td>\n",
       "      <td>341.0</td>\n",
       "      <td>199.0</td>\n",
       "      <td>126.0</td>\n",
       "      <td>167.0</td>\n",
       "      <td>264.0</td>\n",
       "      <td>155.0</td>\n",
       "      <td>108.0</td>\n",
       "      <td>68.0</td>\n",
       "      <td>89.0</td>\n",
       "      <td>162.0</td>\n",
       "      <td>381.0</td>\n",
       "      <td>268.0</td>\n",
       "    </tr>\n",
       "    <tr>\n",
       "      <th>3</th>\n",
       "      <td>4</td>\n",
       "      <td>377.0</td>\n",
       "      <td>274.0</td>\n",
       "      <td>141.0</td>\n",
       "      <td>173.0</td>\n",
       "      <td>282.0</td>\n",
       "      <td>211.0</td>\n",
       "      <td>61.0</td>\n",
       "      <td>64.0</td>\n",
       "      <td>69.0</td>\n",
       "      <td>184.0</td>\n",
       "      <td>380.0</td>\n",
       "      <td>178.0</td>\n",
       "    </tr>\n",
       "    <tr>\n",
       "      <th>4</th>\n",
       "      <td>5</td>\n",
       "      <td>333.0</td>\n",
       "      <td>177.0</td>\n",
       "      <td>125.0</td>\n",
       "      <td>174.0</td>\n",
       "      <td>292.0</td>\n",
       "      <td>251.0</td>\n",
       "      <td>77.0</td>\n",
       "      <td>59.0</td>\n",
       "      <td>83.0</td>\n",
       "      <td>145.0</td>\n",
       "      <td>372.0</td>\n",
       "      <td>165.0</td>\n",
       "    </tr>\n",
       "  </tbody>\n",
       "</table>\n",
       "</div>"
      ],
      "text/plain": [
       "  Day  January  February  March  April    May   June   July  August  \\\n",
       "0   1    346.0     176.0  208.0  133.0  200.0  245.0  105.0    64.0   \n",
       "1   2    340.0     215.0  117.0  144.0  197.0  173.0  118.0    76.0   \n",
       "2   3    341.0     199.0  126.0  167.0  264.0  155.0  108.0    68.0   \n",
       "3   4    377.0     274.0  141.0  173.0  282.0  211.0   61.0    64.0   \n",
       "4   5    333.0     177.0  125.0  174.0  292.0  251.0   77.0    59.0   \n",
       "\n",
       "   September  October  November  December  \n",
       "0      101.0    149.0     339.0     285.0  \n",
       "1       87.0    173.0     318.0     280.0  \n",
       "2       89.0    162.0     381.0     268.0  \n",
       "3       69.0    184.0     380.0     178.0  \n",
       "4       83.0    145.0     372.0     165.0  "
      ]
     },
     "execution_count": 6,
     "metadata": {},
     "output_type": "execute_result"
    }
   ],
   "source": [
    "# Load the data\n",
    "df = pd.read_csv(output_file)\n",
    "\n",
    "# For demonstration purposes, let's create sample data structure\n",
    "# Uncomment the above line when you have actual data\n",
    "\n",
    "print(\"Dataset Information:\")\n",
    "print(f\"Shape: {df.shape}\")\n",
    "print(f\"\\nColumns: {df.columns.tolist()}\")\n",
    "print(f\"\\nData types:\\n{df.dtypes}\")\n",
    "print(f\"\\nFirst few rows:\")\n",
    "df.head()"
   ]
  },
  {
   "cell_type": "markdown",
   "metadata": {},
   "source": [
    "## 3. Data Preprocessing\n",
    "\n",
    "Clean and prepare the data for analysis."
   ]
  },
  {
   "cell_type": "code",
   "execution_count": 13,
   "metadata": {},
   "outputs": [
    {
     "name": "stdout",
     "output_type": "stream",
     "text": [
      "   Day  Month    AQI\n",
      "0    1  April  133.0\n",
      "1    2  April  144.0\n",
      "2    3  April  167.0\n",
      "3    4  April  173.0\n",
      "4    5  April  174.0\n"
     ]
    }
   ],
   "source": [
    "# Remove non-data rows if present (e.g., summary/statistics rows)\n",
    "df_clean = df[df['Day'].apply(lambda x: str(x).isdigit())].copy()\n",
    "\n",
    "# Convert 'Day' to integer\n",
    "df_clean['Day'] = df_clean['Day'].astype(int)\n",
    "\n",
    "# Melt the dataframe to long format: columns 'Day', 'Month', 'AQI'\n",
    "df_long = df_clean.melt(id_vars='Day', value_vars=[\n",
    "    'January', 'February', 'March', 'April', 'May', 'June',\n",
    "    'July', 'August', 'September', 'October', 'November', 'December'\n",
    "], var_name='Month', value_name='AQI')\n",
    "\n",
    "# Drop missing AQI values\n",
    "df_long = df_long.dropna(subset=['AQI'])\n",
    "\n",
    "# Sort by Month and Day\n",
    "df_long = df_long.sort_values(['Month', 'Day']).reset_index(drop=True)\n",
    "\n",
    "print(df_long.head())"
   ]
  },
  {
   "cell_type": "markdown",
   "metadata": {},
   "source": [
    "## 4. Statistical Summary\n",
    "\n",
    "Get basic statistics about the AQI data."
   ]
  },
  {
   "cell_type": "code",
   "execution_count": null,
   "metadata": {},
   "outputs": [],
   "source": [
    "# Statistical summary\n",
    "# print(\"AQI Statistics:\")\n",
    "# print(df['AQI'].describe())\n",
    "\n",
    "# print(\"\\nAQI Category Distribution:\")\n",
    "# print(df['AQI_Category'].value_counts())"
   ]
  },
  {
   "cell_type": "markdown",
   "metadata": {},
   "source": [
    "## 5. Time Series Visualization\n",
    "\n",
    "Plot AQI trends over time."
   ]
  },
  {
   "cell_type": "code",
   "execution_count": null,
   "metadata": {},
   "outputs": [],
   "source": [
    "# Plot AQI over time\n",
    "# plt.figure(figsize=(14, 6))\n",
    "# plt.plot(df['Date'], df['AQI'], linewidth=1, alpha=0.7)\n",
    "# plt.xlabel('Date')\n",
    "# plt.ylabel('AQI')\n",
    "# plt.title(f'Air Quality Index Trend for {city} ({year})')\n",
    "# plt.xticks(rotation=45)\n",
    "# plt.grid(True, alpha=0.3)\n",
    "# plt.tight_layout()\n",
    "# plt.show()"
   ]
  },
  {
   "cell_type": "markdown",
   "metadata": {},
   "source": [
    "## 6. Monthly Analysis\n",
    "\n",
    "Analyze AQI patterns by month."
   ]
  },
  {
   "cell_type": "code",
   "execution_count": null,
   "metadata": {},
   "outputs": [],
   "source": [
    "# Extract month from date\n",
    "# df['Month'] = df['Date'].dt.month_name()\n",
    "\n",
    "# Calculate monthly average AQI\n",
    "# monthly_avg = df.groupby('Month')['AQI'].mean().sort_values(ascending=False)\n",
    "\n",
    "# print(\"Average AQI by Month:\")\n",
    "# print(monthly_avg)\n",
    "\n",
    "# Visualize monthly averages\n",
    "# plt.figure(figsize=(12, 6))\n",
    "# monthly_avg.plot(kind='bar', color='steelblue')\n",
    "# plt.xlabel('Month')\n",
    "# plt.ylabel('Average AQI')\n",
    "# plt.title(f'Average AQI by Month - {city} ({year})')\n",
    "# plt.xticks(rotation=45)\n",
    "# plt.tight_layout()\n",
    "# plt.show()"
   ]
  },
  {
   "cell_type": "markdown",
   "metadata": {},
   "source": [
    "## 7. Pollutant Analysis\n",
    "\n",
    "Analyze individual pollutant levels if available in the data."
   ]
  },
  {
   "cell_type": "code",
   "execution_count": null,
   "metadata": {},
   "outputs": [],
   "source": [
    "# Pollutants to analyze\n",
    "# pollutants = ['PM2.5', 'PM10', 'NO2', 'SO2', 'CO', 'O3']\n",
    "\n",
    "# # Check which pollutants are available\n",
    "# available_pollutants = [p for p in pollutants if p in df.columns]\n",
    "\n",
    "# if available_pollutants:\n",
    "#     # Plot pollutant trends\n",
    "#     fig, axes = plt.subplots(len(available_pollutants), 1, figsize=(14, 4*len(available_pollutants)))\n",
    "#     \n",
    "#     for idx, pollutant in enumerate(available_pollutants):\n",
    "#         ax = axes[idx] if len(available_pollutants) > 1 else axes\n",
    "#         ax.plot(df['Date'], df[pollutant], linewidth=1, alpha=0.7)\n",
    "#         ax.set_xlabel('Date')\n",
    "#         ax.set_ylabel(f'{pollutant} (μg/m³)')\n",
    "#         ax.set_title(f'{pollutant} Levels Over Time')\n",
    "#         ax.grid(True, alpha=0.3)\n",
    "#     \n",
    "#     plt.tight_layout()\n",
    "#     plt.show()"
   ]
  },
  {
   "cell_type": "markdown",
   "metadata": {},
   "source": [
    "## 8. AQI Category Distribution\n",
    "\n",
    "Visualize the distribution of AQI categories."
   ]
  },
  {
   "cell_type": "code",
   "execution_count": null,
   "metadata": {},
   "outputs": [],
   "source": [
    "# Create a pie chart of AQI categories\n",
    "# category_counts = df['AQI_Category'].value_counts()\n",
    "\n",
    "# plt.figure(figsize=(10, 8))\n",
    "# plt.pie(category_counts.values, labels=category_counts.index, autopct='%1.1f%%', startangle=90)\n",
    "# plt.title(f'AQI Category Distribution - {city} ({year})')\n",
    "# plt.axis('equal')\n",
    "# plt.show()"
   ]
  },
  {
   "cell_type": "markdown",
   "metadata": {},
   "source": [
    "## 9. Identifying Worst Days\n",
    "\n",
    "Find the days with worst air quality."
   ]
  },
  {
   "cell_type": "code",
   "execution_count": null,
   "metadata": {},
   "outputs": [],
   "source": [
    "# Get top 10 worst AQI days\n",
    "# worst_days = df.nlargest(10, 'AQI')[['Date', 'AQI', 'AQI_Category']]\n",
    "# print(\"Top 10 Worst Air Quality Days:\")\n",
    "# print(worst_days)\n",
    "\n",
    "# Get top 10 best AQI days\n",
    "# best_days = df.nsmallest(10, 'AQI')[['Date', 'AQI', 'AQI_Category']]\n",
    "# print(\"\\nTop 10 Best Air Quality Days:\")\n",
    "# print(best_days)"
   ]
  },
  {
   "cell_type": "markdown",
   "metadata": {},
   "source": [
    "## 10. Export Analysis Results\n",
    "\n",
    "Save the analysis results for future reference."
   ]
  },
  {
   "cell_type": "code",
   "execution_count": null,
   "metadata": {},
   "outputs": [],
   "source": [
    "# Create summary statistics\n",
    "# summary = {\n",
    "#     'City': city,\n",
    "#     'Year': year,\n",
    "#     'Total Days': len(df),\n",
    "#     'Average AQI': df['AQI'].mean(),\n",
    "#     'Max AQI': df['AQI'].max(),\n",
    "#     'Min AQI': df['AQI'].min(),\n",
    "#     'Std Dev': df['AQI'].std()\n",
    "# }\n",
    "\n",
    "# print(\"\\nAnalysis Summary:\")\n",
    "# for key, value in summary.items():\n",
    "#     print(f\"{key}: {value}\")\n",
    "\n",
    "# Save to JSON\n",
    "# import json\n",
    "# with open(f'{city.lower()}_analysis_{year}.json', 'w') as f:\n",
    "#     json.dump(summary, f, indent=2)\n",
    "# print(f\"\\nAnalysis saved to {city.lower()}_analysis_{year}.json\")"
   ]
  },
  {
   "cell_type": "markdown",
   "metadata": {},
   "source": [
    "## Conclusion\n",
    "\n",
    "This notebook demonstrated how to:\n",
    "- Download historical AQI data\n",
    "- Perform basic data analysis\n",
    "- Visualize trends and patterns\n",
    "- Identify critical pollution days\n",
    "- Export analysis results\n",
    "\n",
    "For more examples, check out the other notebooks in this series!"
   ]
  }
 ],
 "metadata": {
  "kernelspec": {
   "display_name": "venv",
   "language": "python",
   "name": "python3"
  },
  "language_info": {
   "codemirror_mode": {
    "name": "ipython",
    "version": 3
   },
   "file_extension": ".py",
   "mimetype": "text/x-python",
   "name": "python",
   "nbconvert_exporter": "python",
   "pygments_lexer": "ipython3",
   "version": "3.12.1"
  }
 },
 "nbformat": 4,
 "nbformat_minor": 4
}
