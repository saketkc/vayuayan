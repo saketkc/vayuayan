{
 "cells": [
  {
   "cell_type": "markdown",
   "metadata": {},
   "source": [
    "# PM2.5 Regional Analysis\n",
    "\n",
    "This notebook demonstrates how to analyze PM2.5 data for geographic regions using GeoJSON files."
   ]
  },
  {
   "cell_type": "code",
   "execution_count": 1,
   "metadata": {},
   "outputs": [],
   "source": [
    "from cpcbfetch import PM25Client\n",
    "import geopandas as gpd\n",
    "import matplotlib.pyplot as plt\n",
    "import pandas as pd\n",
    "import json"
   ]
  },
  {
   "cell_type": "markdown",
   "metadata": {},
   "source": [
    "## 1. Understanding PM2.5 Data\n",
    "\n",
    "PM2.5 refers to fine particulate matter with a diameter of 2.5 micrometers or smaller. This data is sourced from satellite imagery and provides global coverage.\n",
    "\n",
    "**Data Source:** The package uses netCDF files containing PM2.5 measurements at 0.1-degree resolution."
   ]
  },
  {
   "cell_type": "markdown",
   "metadata": {},
   "source": [
    "## 2. Initialize PM2.5 Client\n",
    "\n",
    "First, let's initialize the PM2.5 client."
   ]
  },
  {
   "cell_type": "code",
   "execution_count": 2,
   "metadata": {},
   "outputs": [
    {
     "name": "stdout",
     "output_type": "stream",
     "text": [
      "PM2.5 Client initialized successfully\n"
     ]
    }
   ],
   "source": [
    "# Initialize PM2.5 client\n",
    "pm25_client = PM25Client()\n",
    "\n",
    "print(\"PM2.5 Client initialized successfully\")"
   ]
  },
  {
   "cell_type": "markdown",
   "metadata": {},
   "source": [
    "## 3. Create a Sample GeoJSON File\n",
    "\n",
    "For this example, we'll create a simple GeoJSON file representing a region of interest.\n",
    "\n",
    "**Note:** You can use any GeoJSON file with your own boundaries."
   ]
  },
  {
   "cell_type": "code",
   "execution_count": 3,
   "metadata": {},
   "outputs": [
    {
     "name": "stdout",
     "output_type": "stream",
     "text": [
      "Sample GeoJSON created: mumbai_region.geojson\n"
     ]
    }
   ],
   "source": [
    "# Example: Create a simple GeoJSON for a rectangular region\n",
    "# This example covers approximately the Mumbai metropolitan area\n",
    "\n",
    "sample_geojson = {\n",
    "    \"type\": \"FeatureCollection\",\n",
    "    \"features\": [\n",
    "        {\n",
    "            \"type\": \"Feature\",\n",
    "            \"properties\": {\n",
    "                \"name\": \"Mumbai Region\",\n",
    "                \"id\": \"mumbai_001\"\n",
    "            },\n",
    "            \"geometry\": {\n",
    "                \"type\": \"Polygon\",\n",
    "                \"coordinates\": [[\n",
    "                    [72.7, 18.9],  # Southwest corner\n",
    "                    [73.1, 18.9],  # Southeast corner\n",
    "                    [73.1, 19.3],  # Northeast corner\n",
    "                    [72.7, 19.3],  # Northwest corner\n",
    "                    [72.7, 18.9]   # Close the polygon\n",
    "                ]]\n",
    "            }\n",
    "        }\n",
    "    ]\n",
    "}\n",
    "\n",
    "# Save to file\n",
    "geojson_file = \"mumbai_region.geojson\"\n",
    "with open(geojson_file, 'w') as f:\n",
    "    json.dump(sample_geojson, f, indent=2)\n",
    "\n",
    "print(f\"Sample GeoJSON created: {geojson_file}\")"
   ]
  },
  {
   "cell_type": "markdown",
   "metadata": {},
   "source": [
    "## 4. Visualize the GeoJSON Region\n",
    "\n",
    "Let's visualize the region we'll be analyzing."
   ]
  },
  {
   "cell_type": "code",
   "execution_count": 5,
   "metadata": {},
   "outputs": [
    {
     "data": {
      "image/png": "[encoded data removed]",
      "text/plain": [
       "<Figure size 500x500 with 1 Axes>"
      ]
     },
     "metadata": {},
     "output_type": "display_data"
    },
    {
     "name": "stdout",
     "output_type": "stream",
     "text": [
      "\n",
      "Region Details:\n",
      "Name: Mumbai Region\n",
      "Bounds: [72.7 18.9 73.1 19.3]\n"
     ]
    }
   ],
   "source": [
    "# Load and visualize the GeoJSON\n",
    "gdf = gpd.read_file(geojson_file)\n",
    "\n",
    "fig, ax = plt.subplots(figsize=(5, 5))\n",
    "gdf.plot(ax=ax, facecolor='lightblue', edgecolor='black', linewidth=2)\n",
    "ax.set_title('Analysis Region', fontsize=16, fontweight='bold')\n",
    "ax.set_xlabel('Longitude')\n",
    "ax.set_ylabel('Latitude')\n",
    "plt.grid(True, alpha=0.3)\n",
    "plt.tight_layout()\n",
    "plt.show()\n",
    "\n",
    "print(\"\\nRegion Details:\")\n",
    "print(f\"Name: {gdf['name'].iloc[0]}\")\n",
    "print(f\"Bounds: {gdf.total_bounds}\")"
   ]
  },
  {
   "cell_type": "markdown",
   "metadata": {},
   "source": [
    "## 5. Get PM2.5 Statistics for the Region\n",
    "\n",
    "Now let's fetch PM2.5 statistics for the entire region.\n",
    "\n",
    "**Note:** This requires the PM2.5 netCDF data files to be available locally."
   ]
  },
  {
   "cell_type": "code",
   "execution_count": 9,
   "metadata": {},
   "outputs": [
    {
     "name": "stdout",
     "output_type": "stream",
     "text": [
      "Error: NetCDF data not found for year 2019, month 2\n",
      "\n",
      "Note: This requires PM2.5 netCDF data files.\n",
      "Download from: https://sites.wustl.edu/acag/datasets/surface-pm2-5/\n"
     ]
    }
   ],
   "source": [
    "# Get PM2.5 statistics for the region\n",
    "# Specify year and optionally month\n",
    "\n",
    "year = 2019\n",
    "month = 2  # February (optional, leave as None for annual data)\n",
    "\n",
    "try:\n",
    "    stats = pm25_client.get_pm25_stats(geojson_file, year, month)\n",
    "    \n",
    "    print(f\"PM2.5 Statistics for {year}/{month if month else 'Annual'}:\")\n",
    "    print(f\"\\nMean PM2.5: {stats['mean']:.2f} μg/m³\")\n",
    "    print(f\"Standard Deviation: {stats['std']:.2f} μg/m³\")\n",
    "    print(f\"Count: {stats['count']} pixels\")\n",
    "    \n",
    "    # Interpret the results\n",
    "    if stats['mean'] <= 12:\n",
    "        category = \"Good (WHO guideline)\"\n",
    "    elif stats['mean'] <= 35.4:\n",
    "        category = \"Moderate\"\n",
    "    elif stats['mean'] <= 55.4:\n",
    "        category = \"Unhealthy for Sensitive Groups\"\n",
    "    elif stats['mean'] <= 150.4:\n",
    "        category = \"Unhealthy\"\n",
    "    elif stats['mean'] <= 250.4:\n",
    "        category = \"Very Unhealthy\"\n",
    "    else:\n",
    "        category = \"Hazardous\"\n",
    "    \n",
    "    print(f\"\\nAir Quality Category: {category}\")\n",
    "    \n",
    "except FileNotFoundError as e:\n",
    "    print(f\"Error: {e}\")\n",
    "    print(\"\\nNote: This requires PM2.5 netCDF data files.\")\n",
    "    print(\"Download from: https://sites.wustl.edu/acag/datasets/surface-pm2-5/\")"
   ]
  },
  {
   "cell_type": "markdown",
   "metadata": {},
   "source": [
    "## 6. Analyze Multiple Sub-Regions\n",
    "\n",
    "If your GeoJSON contains multiple polygons, you can analyze each separately."
   ]
  },
  {
   "cell_type": "code",
   "execution_count": null,
   "metadata": {},
   "outputs": [],
   "source": [
    "# Create a GeoJSON with multiple districts\n",
    "multi_region_geojson = {\n",
    "    \"type\": \"FeatureCollection\",\n",
    "    \"features\": [\n",
    "        {\n",
    "            \"type\": \"Feature\",\n",
    "            \"properties\": {\"district_name\": \"North Mumbai\", \"id\": 1},\n",
    "            \"geometry\": {\n",
    "                \"type\": \"Polygon\",\n",
    "                \"coordinates\": [[[72.8, 19.1], [72.9, 19.1], [72.9, 19.2], [72.8, 19.2], [72.8, 19.1]]]\n",
    "            }\n",
    "        },\n",
    "        {\n",
    "            \"type\": \"Feature\",\n",
    "            \"properties\": {\"district_name\": \"South Mumbai\", \"id\": 2},\n",
    "            \"geometry\": {\n",
    "                \"type\": \"Polygon\",\n",
    "                \"coordinates\": [[[72.8, 18.9], [72.9, 18.9], [72.9, 19.0], [72.8, 19.0], [72.8, 18.9]]]\n",
    "            }\n",
    "        }\n",
    "    ]\n",
    "}\n",
    "\n",
    "multi_geojson_file = \"mumbai_districts.geojson\"\n",
    "with open(multi_geojson_file, 'w') as f:\n",
    "    json.dump(multi_region_geojson, f, indent=2)\n",
    "\n",
    "print(f\"Multi-region GeoJSON created: {multi_geojson_file}\")"
   ]
  },
  {
   "cell_type": "code",
   "execution_count": null,
   "metadata": {},
   "outputs": [],
   "source": [
    "# Get PM2.5 statistics for each polygon\n",
    "try:\n",
    "    results = pm25_client.get_pm25_stats_by_polygon(\n",
    "        multi_geojson_file, \n",
    "        year=2024, \n",
    "        month=3,\n",
    "        id_field=\"district_name\"\n",
    "    )\n",
    "    \n",
    "    # Convert to DataFrame for better visualization\n",
    "    df_results = pd.DataFrame(results)\n",
    "    \n",
    "    print(\"PM2.5 Statistics by District:\")\n",
    "    print(df_results[['feature_id', 'mean', 'std', 'count']])\n",
    "    \n",
    "    # Find district with highest pollution\n",
    "    worst_district = df_results.loc[df_results['mean'].idxmax()]\n",
    "    print(f\"\\nMost Polluted District: {worst_district['feature_id']}\")\n",
    "    print(f\"Average PM2.5: {worst_district['mean']:.2f} μg/m³\")\n",
    "    \n",
    "except FileNotFoundError as e:\n",
    "    print(f\"Error: {e}\")\n",
    "    print(\"Note: This requires PM2.5 netCDF data files.\")"
   ]
  },
  {
   "cell_type": "markdown",
   "metadata": {},
   "source": [
    "## 7. Visualize PM2.5 Distribution\n",
    "\n",
    "Create a choropleth map showing PM2.5 levels across districts."
   ]
  },
  {
   "cell_type": "code",
   "execution_count": null,
   "metadata": {},
   "outputs": [],
   "source": [
    "# Load the multi-region GeoJSON\n",
    "gdf_multi = gpd.read_file(multi_geojson_file)\n",
    "\n",
    "# Merge with results if available\n",
    "try:\n",
    "    # Merge PM2.5 data with geodataframe\n",
    "    gdf_with_pm25 = gdf_multi.merge(\n",
    "        df_results[['feature_id', 'mean']], \n",
    "        left_on='district_name', \n",
    "        right_on='feature_id'\n",
    "    )\n",
    "    \n",
    "    # Create choropleth map\n",
    "    fig, ax = plt.subplots(figsize=(12, 10))\n",
    "    gdf_with_pm25.plot(\n",
    "        column='mean', \n",
    "        ax=ax, \n",
    "        legend=True,\n",
    "        cmap='YlOrRd',\n",
    "        edgecolor='black',\n",
    "        linewidth=1.5\n",
    "    )\n",
    "    \n",
    "    # Add district labels\n",
    "    for idx, row in gdf_with_pm25.iterrows():\n",
    "        centroid = row.geometry.centroid\n",
    "        ax.text(\n",
    "            centroid.x, centroid.y, \n",
    "            f\"{row['district_name']}\\n{row['mean']:.1f}\",\n",
    "            ha='center', va='center',\n",
    "            bbox=dict(boxstyle='round', facecolor='white', alpha=0.7)\n",
    "        )\n",
    "    \n",
    "    ax.set_title('PM2.5 Distribution by District (μg/m³)', fontsize=16, fontweight='bold')\n",
    "    ax.set_xlabel('Longitude')\n",
    "    ax.set_ylabel('Latitude')\n",
    "    plt.tight_layout()\n",
    "    plt.show()\n",
    "    \n",
    "except NameError:\n",
    "    print(\"PM2.5 data not available. Run the previous cell first.\")"
   ]
  },
  {
   "cell_type": "markdown",
   "metadata": {},
   "source": [
    "## 8. Temporal Analysis\n",
    "\n",
    "Compare PM2.5 levels across different months."
   ]
  },
  {
   "cell_type": "code",
   "execution_count": null,
   "metadata": {},
   "outputs": [],
   "source": [
    "# Analyze PM2.5 for multiple months\n",
    "months = range(1, 13)  # All 12 months\n",
    "monthly_data = []\n",
    "\n",
    "print(\"Analyzing monthly PM2.5 levels...\\n\")\n",
    "\n",
    "for month in months:\n",
    "    try:\n",
    "        stats = pm25_client.get_pm25_stats(geojson_file, 2024, month)\n",
    "        monthly_data.append({\n",
    "            'Month': month,\n",
    "            'Mean_PM25': stats['mean'],\n",
    "            'Std_PM25': stats['std'],\n",
    "            'Count': stats['count']\n",
    "        })\n",
    "        print(f\"Month {month}: {stats['mean']:.2f} μg/m³\")\n",
    "    except Exception as e:\n",
    "        print(f\"Month {month}: Data not available\")\n",
    "\n",
    "if monthly_data:\n",
    "    # Create DataFrame\n",
    "    df_monthly = pd.DataFrame(monthly_data)\n",
    "    \n",
    "    # Plot monthly trends\n",
    "    plt.figure(figsize=(14, 6))\n",
    "    plt.plot(df_monthly['Month'], df_monthly['Mean_PM25'], marker='o', linewidth=2, markersize=8)\n",
    "    plt.fill_between(\n",
    "        df_monthly['Month'], \n",
    "        df_monthly['Mean_PM25'] - df_monthly['Std_PM25'],\n",
    "        df_monthly['Mean_PM25'] + df_monthly['Std_PM25'],\n",
    "        alpha=0.3\n",
    "    )\n",
    "    plt.xlabel('Month', fontsize=12)\n",
    "    plt.ylabel('PM2.5 (μg/m³)', fontsize=12)\n",
    "    plt.title('Monthly PM2.5 Trends', fontsize=14, fontweight='bold')\n",
    "    plt.grid(True, alpha=0.3)\n",
    "    plt.xticks(range(1, 13))\n",
    "    plt.tight_layout()\n",
    "    plt.show()\n",
    "    \n",
    "    # Find worst and best months\n",
    "    worst_month = df_monthly.loc[df_monthly['Mean_PM25'].idxmax()]\n",
    "    best_month = df_monthly.loc[df_monthly['Mean_PM25'].idxmin()]\n",
    "    \n",
    "    print(f\"\\nWorst Month: {worst_month['Month']} ({worst_month['Mean_PM25']:.2f} μg/m³)\")\n",
    "    print(f\"Best Month: {best_month['Month']} ({best_month['Mean_PM25']:.2f} μg/m³)\")"
   ]
  },
  {
   "cell_type": "markdown",
   "metadata": {},
   "source": [
    "## 9. Export Results\n",
    "\n",
    "Save the analysis results for future reference."
   ]
  },
  {
   "cell_type": "code",
   "execution_count": null,
   "metadata": {},
   "outputs": [],
   "source": [
    "# Export results to CSV\n",
    "if 'df_results' in locals():\n",
    "    output_file = \"pm25_analysis_results.csv\"\n",
    "    df_results.to_csv(output_file, index=False)\n",
    "    print(f\"District-level results saved to: {output_file}\")\n",
    "\n",
    "if 'df_monthly' in locals():\n",
    "    monthly_output = \"pm25_monthly_trends.csv\"\n",
    "    df_monthly.to_csv(monthly_output, index=False)\n",
    "    print(f\"Monthly trends saved to: {monthly_output}\")"
   ]
  },
  {
   "cell_type": "markdown",
   "metadata": {},
   "source": [
    "## Conclusion\n",
    "\n",
    "This notebook demonstrated:\n",
    "- Setting up PM2.5 analysis with GeoJSON regions\n",
    "- Calculating PM2.5 statistics for geographic areas\n",
    "- Analyzing multiple sub-regions\n",
    "- Visualizing spatial distribution\n",
    "- Temporal trend analysis\n",
    "- Exporting results\n",
    "\n",
    "**Next Steps:**\n",
    "- Integrate with other environmental data\n",
    "- Create automated reports\n",
    "- Set up alerts for high pollution events\n",
    "- Compare different regions"
   ]
  }
 ],
 "metadata": {
  "kernelspec": {
   "display_name": "venv",
   "language": "python",
   "name": "python3"
  },
  "language_info": {
   "codemirror_mode": {
    "name": "ipython",
    "version": 3
   },
   "file_extension": ".py",
   "mimetype": "text/x-python",
   "name": "python",
   "nbconvert_exporter": "python",
   "pygments_lexer": "ipython3",
   "version": "3.12.1"
  }
 },
 "nbformat": 4,
 "nbformat_minor": 4
}
