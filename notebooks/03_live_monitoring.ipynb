{
 "cells": [
  {
   "cell_type": "markdown",
   "metadata": {},
   "source": [
    "# Live AQI Monitoring\n",
    "\n",
    "This notebook demonstrates how to monitor real-time air quality data using cpcbfetch."
   ]
  },
  {
   "cell_type": "code",
   "execution_count": null,
   "metadata": {},
   "outputs": [],
   "source": [
    "from cpcbfetch import LiveAQIClient\n",
    "import json\n",
    "import time\n",
    "from datetime import datetime\n",
    "import pandas as pd"
   ]
  },
  {
   "cell_type": "markdown",
   "metadata": {},
   "source": [
    "## 1. Get Your Location\n",
    "\n",
    "First, let's find your approximate location using IP-based geolocation."
   ]
  },
  {
   "cell_type": "code",
   "execution_count": null,
   "metadata": {},
   "outputs": [],
   "source": [
    "# Initialize the Live AQI client\n",
    "client = LiveAQIClient()\n",
    "\n",
    "# Get your location\n",
    "location = client.get_system_location()\n",
    "print(\"Your Location:\")\n",
    "print(json.dumps(location, indent=2))"
   ]
  },
  {
   "cell_type": "markdown",
   "metadata": {},
   "source": [
    "## 2. Find Nearest Monitoring Station\n",
    "\n",
    "Find the closest air quality monitoring station to your location."
   ]
  },
  {
   "cell_type": "code",
   "execution_count": null,
   "metadata": {},
   "outputs": [],
   "source": [
    "# Find nearest station\n",
    "nearest_station = client.get_nearest_station()\n",
    "print(\"Nearest Monitoring Station:\")\n",
    "print(json.dumps(nearest_station, indent=2))\n",
    "\n",
    "# Extract station ID for future use\n",
    "station_id = nearest_station.get('station_id')\n",
    "station_name = nearest_station.get('station_name', 'Unknown')\n",
    "print(f\"\\nMonitoring Station ID: {station_id}\")\n",
    "print(f\"Station Name: {station_name}\")"
   ]
  },
  {
   "cell_type": "markdown",
   "metadata": {},
   "source": [
    "## 3. Get Current Air Quality Data\n",
    "\n",
    "Fetch the latest air quality measurements from the nearest station."
   ]
  },
  {
   "cell_type": "code",
   "execution_count": null,
   "metadata": {},
   "outputs": [],
   "source": [
    "# Get current AQI data\n",
    "current_data = client.get_live_aqi_data(station_id=station_id)\n",
    "\n",
    "print(f\"Current Air Quality at {station_name}:\")\n",
    "print(json.dumps(current_data, indent=2))\n",
    "\n",
    "# Extract key metrics\n",
    "if current_data:\n",
    "    aqi = current_data.get('AQI', 'N/A')\n",
    "    category = current_data.get('Category', 'Unknown')\n",
    "    pm25 = current_data.get('PM2.5', 'N/A')\n",
    "    pm10 = current_data.get('PM10', 'N/A')\n",
    "    \n",
    "    print(f\"\\n📊 Summary:\")\n",
    "    print(f\"   AQI: {aqi}\")\n",
    "    print(f\"   Category: {category}\")\n",
    "    print(f\"   PM2.5: {pm25} μg/m³\")\n",
    "    print(f\"   PM10: {pm10} μg/m³\")"
   ]
  },
  {
   "cell_type": "markdown",
   "metadata": {},
   "source": [
    "## 4. Continuous Monitoring\n",
    "\n",
    "Set up a simple monitoring loop to track air quality changes over time.\n",
    "\n",
    "**Note:** This will run continuously. Stop the cell when you want to end monitoring."
   ]
  },
  {
   "cell_type": "code",
   "execution_count": null,
   "metadata": {},
   "outputs": [],
   "source": [
    "# Monitoring configuration\n",
    "CHECK_INTERVAL = 300  # Check every 5 minutes (300 seconds)\n",
    "MAX_ITERATIONS = 12   # Run for 1 hour (12 * 5 minutes)\n",
    "\n",
    "# Store monitoring data\n",
    "monitoring_data = []\n",
    "\n",
    "print(f\"Starting air quality monitoring...\")\n",
    "print(f\"Station: {station_name}\")\n",
    "print(f\"Checking every {CHECK_INTERVAL // 60} minutes\")\n",
    "print(f\"Will run for {(MAX_ITERATIONS * CHECK_INTERVAL) // 60} minutes\\n\")\n",
    "print(\"-\" * 80)\n",
    "\n",
    "try:\n",
    "    for i in range(MAX_ITERATIONS):\n",
    "        # Get current data\n",
    "        data = client.get_live_aqi_data(station_id=station_id)\n",
    "        \n",
    "        if data:\n",
    "            # Add timestamp\n",
    "            data['timestamp'] = datetime.now().isoformat()\n",
    "            data['station_name'] = station_name\n",
    "            monitoring_data.append(data)\n",
    "            \n",
    "            # Display current reading\n",
    "            timestamp = datetime.now().strftime(\"%Y-%m-%d %H:%M:%S\")\n",
    "            aqi = data.get('AQI', 'N/A')\n",
    "            category = data.get('Category', 'Unknown')\n",
    "            \n",
    "            print(f\"[{timestamp}] AQI: {aqi} | Category: {category}\")\n",
    "        else:\n",
    "            print(f\"[{datetime.now().strftime('%Y-%m-%d %H:%M:%S')}] Failed to fetch data\")\n",
    "        \n",
    "        # Wait before next check (except on last iteration)\n",
    "        if i < MAX_ITERATIONS - 1:\n",
    "            time.sleep(CHECK_INTERVAL)\n",
    "\nexcept KeyboardInterrupt:\n",
    "    print(\"\\n\\n⚠️  Monitoring stopped by user\")\n",
    "\n",
    "print(\"\\n\" + \"-\" * 80)\n",
    "print(f\"Monitoring complete. Collected {len(monitoring_data)} readings.\")"
   ]
  },
  {
   "cell_type": "markdown",
   "metadata": {},
   "source": [
    "## 5. Analyze Monitoring Data\n",
    "\n",
    "Convert the collected data to a DataFrame for analysis."
   ]
  },
  {
   "cell_type": "code",
   "execution_count": null,
   "metadata": {},
   "outputs": [],
   "source": [
    "if monitoring_data:\n",
    "    # Create DataFrame\n",
    "    df = pd.DataFrame(monitoring_data)\n",
    "    \n",
    "    print(\"Monitoring Data Summary:\")\n",
    "    print(f\"\\nShape: {df.shape}\")\n",
    "    print(f\"\\nColumns: {df.columns.tolist()}\")\n",
    "    \n",
    "    # Display first few rows\n",
    "    print(\"\\nFirst few readings:\")\n",
    "    display(df.head())\n",
    "    \n",
    "    # Basic statistics\n",
    "    if 'AQI' in df.columns:\n",
    "        print(\"\\nAQI Statistics:\")\n",
    "        print(df['AQI'].describe())\n",
    "else:\n",
    "    print(\"No monitoring data collected.\")"
   ]
  },
  {
   "cell_type": "markdown",
   "metadata": {},
   "source": [
    "## 6. Visualize Monitoring Data\n",
    "\n",
    "Create a time series plot of the AQI readings."
   ]
  },
  {
   "cell_type": "code",
   "execution_count": null,
   "metadata": {},
   "outputs": [],
   "source": [
    "import matplotlib.pyplot as plt\n",
    "\n",
    "if monitoring_data and 'AQI' in df.columns:\n",
    "    # Convert timestamp to datetime\n",
    "    df['timestamp'] = pd.to_datetime(df['timestamp'])\n",
    "    \n",
    "    # Plot AQI over time\n",
    "    plt.figure(figsize=(12, 6))\n",
    "    plt.plot(df['timestamp'], df['AQI'], marker='o', linewidth=2, markersize=8)\n",
    "    plt.xlabel('Time')\n",
    "    plt.ylabel('AQI')\n",
    "    plt.title(f'Air Quality Monitoring - {station_name}')\n",
    "    plt.grid(True, alpha=0.3)\n",
    "    plt.xticks(rotation=45)\n",
    "    plt.tight_layout()\n",
    "    plt.show()\n",
    "    \n",
    "    # Check for significant changes\n",
    "    if len(df) > 1:\n",
    "        aqi_change = df['AQI'].iloc[-1] - df['AQI'].iloc[0]\n",
    "        print(f\"\\n📈 AQI Change: {aqi_change:+.1f}\")\n",
    "        \n",
    "        if abs(aqi_change) > 50:\n",
    "            print(\"⚠️  Significant air quality change detected!\")\n",
    "else:\n",
    "    print(\"Insufficient data for visualization.\")"
   ]
  },
  {
   "cell_type": "markdown",
   "metadata": {},
   "source": [
    "## 7. Set Up Alerts\n",
    "\n",
    "Create a simple alert system for unhealthy air quality levels."
   ]
  },
  {
   "cell_type": "code",
   "execution_count": null,
   "metadata": {},
   "outputs": [],
   "source": [
    "def check_air_quality_alert(aqi_value):\n",
    "    \"\"\"\n",
    "    Check AQI and return alert level.\n",
    "    \n",
    "    AQI Categories:\n",
    "    - 0-50: Good\n",
    "    - 51-100: Satisfactory\n",
    "    - 101-200: Moderate\n",
    "    - 201-300: Poor\n",
    "    - 301-400: Very Poor\n",
    "    - 401+: Severe\n",
    "    \"\"\"\n",
    "    if aqi_value <= 50:\n",
    "        return \"✅ Good\", \"Air quality is good. Enjoy outdoor activities!\"\n",
    "    elif aqi_value <= 100:\n",
    "        return \"🟢 Satisfactory\", \"Air quality is acceptable.\"\n",
    "    elif aqi_value <= 200:\n",
    "        return \"🟡 Moderate\", \"Sensitive individuals should limit prolonged outdoor exposure.\"\n",
    "    elif aqi_value <= 300:\n",
    "        return \"🟠 Poor\", \"Everyone may begin to experience health effects. Reduce outdoor activities.\"\n",
    "    elif aqi_value <= 400:\n",
    "        return \"🔴 Very Poor\", \"Health alert! Everyone should avoid outdoor activities.\"\n",
    "    else:\n",
    "        return \"🆘 Severe\", \"Health emergency! Stay indoors and avoid any outdoor exposure.\"\n",
    "\n",
    "# Check current AQI\n",
    "if current_data and 'AQI' in current_data:\n",
    "    current_aqi = current_data['AQI']\n",
    "    alert_level, message = check_air_quality_alert(current_aqi)\n",
    "    \n",
    "    print(f\"\\nCurrent AQI: {current_aqi}\")\n",
    "    print(f\"Alert Level: {alert_level}\")\n",
    "    print(f\"Recommendation: {message}\")"
   ]
  },
  {
   "cell_type": "markdown",
   "metadata": {},
   "source": [
    "## 8. Save Monitoring Data\n",
    "\n",
    "Export the monitoring data for future reference."
   ]
  },
  {
   "cell_type": "code",
   "execution_count": null,
   "metadata": {},
   "outputs": [],
   "source": [
    "if monitoring_data:\n",
    "    # Save to CSV\n",
    "    timestamp_str = datetime.now().strftime(\"%Y%m%d_%H%M%S\")\n",
    "    filename = f\"aqi_monitoring_{station_name.replace(' ', '_')}_{timestamp_str}.csv\"\n",
    "    \n",
    "    df.to_csv(filename, index=False)\n",
    "    print(f\"Monitoring data saved to: {filename}\")\n",
    "    \n",
    "    # Also save as JSON\n",
    "    json_filename = filename.replace('.csv', '.json')\n",
    "    df.to_json(json_filename, orient='records', indent=2)\n",
    "    print(f\"JSON data saved to: {json_filename}\")\n",
    "else:\n",
    "    print(\"No data to save.\")"
   ]
  },
  {
   "cell_type": "markdown",
   "metadata": {},
   "source": [
    "## 9. Get AQI for Specific Coordinates\n",
    "\n",
    "You can also get AQI data for any specific location by providing coordinates."
   ]
  },
  {
   "cell_type": "code",
   "execution_count": null,
   "metadata": {},
   "outputs": [],
   "source": [
    "# Example: Get AQI for Mumbai coordinates\n",
    "mumbai_lat = 19.0760\n",
    "mumbai_lon = 72.8777\n",
    "\n",
    "coords = (mumbai_lat, mumbai_lon)\n",
    "\n",
    "# Find nearest station to these coordinates\n",
    "mumbai_station = client.get_nearest_station(coords=coords)\n",
    "print(\"Nearest station to Mumbai:\")\n",
    "print(json.dumps(mumbai_station, indent=2))\n",
    "\n",
    "# Get AQI data for that location\n",
    "mumbai_aqi = client.get_live_aqi_data(coords=coords)\n",
    "print(\"\\nCurrent AQI in Mumbai:\")\n",
    "print(json.dumps(mumbai_aqi, indent=2))"
   ]
  },
  {
   "cell_type": "markdown",
   "metadata": {},
   "source": [
    "## Conclusion\n",
    "\n",
    "This notebook demonstrated:\n",
    "- Getting your current location\n",
    "- Finding nearest monitoring stations\n",
    "- Fetching real-time air quality data\n",
    "- Setting up continuous monitoring\n",
    "- Creating alerts based on AQI levels\n",
    "- Visualizing and saving monitoring data\n",
    "\n",
    "You can extend this by:\n",
    "- Adding email/SMS alerts\n",
    "- Monitoring multiple stations\n",
    "- Creating dashboards with real-time updates\n",
    "- Integrating with IoT devices"
   ]
  }
 ],
 "metadata": {
  "kernelspec": {
   "display_name": "Python 3",
   "language": "python",
   "name": "python3"
  },
  "language_info": {
   "codemirror_mode": {
    "name": "ipython",
    "version": 3
   },
   "file_extension": ".py",
   "mimetype": "text/x-python",
   "name": "python",
   "nbconvert_exporter": "python",
   "pygments_lexer": "ipython3",
   "version": "3.8.0"
  }
 },
 "nbformat": 4,
 "nbformat_minor": 4
}
