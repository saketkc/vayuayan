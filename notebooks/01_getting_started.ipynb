{
 "cells": [
  {
   "cell_type": "markdown",
   "metadata": {},
   "source": [
    "# Getting Started with cpcbfetch\n",
    "\n",
    "This notebook provides a quick introduction to using the cpcbfetch package for fetching air quality data from India's Central Pollution Control Board (CPCB).\n",
    "\n",
    "## Installation\n",
    "\n",
    "First, ensure you have cpcbfetch installed:\n",
    "\n",
    "```bash\n",
    "pip install cpcbfetch\n",
    "```"
   ]
  },
  {
   "cell_type": "markdown",
   "metadata": {},
   "source": [
    "## Importing the Package\n",
    "\n",
    "Let's import the necessary clients from cpcbfetch:"
   ]
  },
  {
   "cell_type": "code",
   "execution_count": null,
   "metadata": {},
   "outputs": [],
   "source": [
    "from cpcbfetch import AQIClient, LiveAQIClient, PM25Client\n",
    "import pandas as pd\n",
    "import json"
   ]
  },
  {
   "cell_type": "markdown",
   "metadata": {},
   "source": [
    "## 1. Exploring Available Data\n",
    "\n",
    "Let's start by exploring what states, cities, and monitoring stations are available."
   ]
  },
  {
   "cell_type": "code",
   "execution_count": null,
   "metadata": {},
   "outputs": [],
   "source": [
    "# Initialize the AQI client\n",
    "aqi_client = AQIClient()\n",
    "\n",
    "# Get list of all available states\n",
    "states = aqi_client.get_state_list()\n",
    "print(f\"Total states available: {len(states)}\")\n",
    "print(\"\\nFirst 10 states:\")\n",
    "for state in states[:10]:\n",
    "    print(f\"  - {state}\")"
   ]
  },
  {
   "cell_type": "markdown",
   "metadata": {},
   "source": [
    "### Getting Cities in a State"
   ]
  },
  {
   "cell_type": "code",
   "execution_count": null,
   "metadata": {},
   "outputs": [],
   "source": [
    "# Get cities in Maharashtra\n",
    "cities = aqi_client.get_city_list(\"Maharashtra\")\n",
    "print(f\"Cities in Maharashtra: {len(cities)}\")\n",
    "print(\"\\nCities:\")\n",
    "for city in cities:\n",
    "    print(f\"  - {city}\")"
   ]
  },
  {
   "cell_type": "markdown",
   "metadata": {},
   "source": [
    "### Getting Monitoring Stations in a City"
   ]
  },
  {
   "cell_type": "code",
   "execution_count": null,
   "metadata": {},
   "outputs": [],
   "source": [
    "# Get monitoring stations in Mumbai\n",
    "stations = aqi_client.get_station_list(\"Mumbai\")\n",
    "print(f\"Monitoring stations in Mumbai: {len(stations)}\")\n",
    "print(\"\\nStations:\")\n",
    "for station in stations:\n",
    "    print(f\"  - {station}\")"
   ]
  },
  {
   "cell_type": "markdown",
   "metadata": {},
   "source": [
    "## 2. Live AQI Data\n",
    "\n",
    "Now let's get real-time air quality data for your location."
   ]
  },
  {
   "cell_type": "code",
   "execution_count": null,
   "metadata": {},
   "outputs": [],
   "source": [
    "# Initialize Live AQI client\n",
    "live_client = LiveAQIClient()\n",
    "\n",
    "# Get your current location based on IP\n",
    "location = live_client.get_system_location()\n",
    "print(\"Your approximate location:\")\n",
    "print(json.dumps(location, indent=2))"
   ]
  },
  {
   "cell_type": "markdown",
   "metadata": {},
   "source": [
    "### Finding the Nearest Monitoring Station"
   ]
  },
  {
   "cell_type": "code",
   "execution_count": null,
   "metadata": {},
   "outputs": [],
   "source": [
    "# Find nearest monitoring station\n",
    "nearest_station = live_client.get_nearest_station()\n",
    "print(\"Nearest monitoring station:\")\n",
    "print(json.dumps(nearest_station, indent=2))"
   ]
  },
  {
   "cell_type": "markdown",
   "metadata": {},
   "source": [
    "### Getting Current AQI Data"
   ]
  },
  {
   "cell_type": "code",
   "execution_count": null,
   "metadata": {},
   "outputs": [],
   "source": [
    "# Get current AQI data for nearest station\n",
    "current_aqi = live_client.get_live_aqi_data()\n",
    "print(\"Current Air Quality Data:\")\n",
    "print(json.dumps(current_aqi, indent=2))"
   ]
  },
  {
   "cell_type": "markdown",
   "metadata": {},
   "source": [
    "## 3. Downloading Historical Data\n",
    "\n",
    "You can download historical AQI data for cities or specific stations."
   ]
  },
  {
   "cell_type": "code",
   "execution_count": null,
   "metadata": {},
   "outputs": [],
   "source": [
    "# Download city-level data for Mumbai in 2024\n",
    "# Uncomment the following lines to download data:\n",
    "\n",
    "# output_file = \"mumbai_aqi_2024.csv\"\n",
    "# aqi_client.download_past_year_AQI_data_cityLevel(\"Mumbai\", \"2024\", output_file)\n",
    "# print(f\"Data downloaded to {output_file}\")\n",
    "\n",
    "# # Load and display the data\n",
    "# df = pd.read_csv(output_file)\n",
    "# print(f\"\\nDataset shape: {df.shape}\")\n",
    "# print(\"\\nFirst few rows:\")\n",
    "# df.head()"
   ]
  },
  {
   "cell_type": "markdown",
   "metadata": {},
   "source": [
    "## Next Steps\n",
    "\n",
    "Now that you've learned the basics, check out these other notebooks for more advanced examples:\n",
    "\n",
    "- `02_historical_data_analysis.ipynb` - Analyze historical AQI trends\n",
    "- `03_live_monitoring.ipynb` - Real-time monitoring and alerts\n",
    "- `04_pm25_regional_analysis.ipynb` - Regional PM2.5 analysis using GeoJSON\n",
    "- `05_data_visualization.ipynb` - Visualizing air quality data\n",
    "\n",
    "For complete API documentation, visit: https://cpcbfetch.readthedocs.io/"
   ]
  }
 ],
 "metadata": {
  "kernelspec": {
   "display_name": "Python 3",
   "language": "python",
   "name": "python3"
  },
  "language_info": {
   "codemirror_mode": {
    "name": "ipython",
    "version": 3
   },
   "file_extension": ".py",
   "mimetype": "text/x-python",
   "name": "python",
   "nbconvert_exporter": "python",
   "pygments_lexer": "ipython3",
   "version": "3.8.0"
  }
 },
 "nbformat": 4,
 "nbformat_minor": 4
}
